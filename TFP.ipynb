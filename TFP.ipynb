{
 "cells": [
  {
   "cell_type": "markdown",
   "id": "e8e31d91",
   "metadata": {},
   "source": [
    "### Enter Code Here"
   ]
  },
  {
   "cell_type": "code",
   "execution_count": null,
   "id": "ab40015c",
   "metadata": {},
   "outputs": [],
   "source": []
  }
 ],
 "metadata": {
  "kernelspec": {
   "display_name": "Python 3 (ipykernel)",
   "language": "python",
   "name": "python3"
  },
  "language_info": {
   "codemirror_mode": {
    "name": "ipython",
    "version": 3
   },
   "file_extension": ".py",
   "mimetype": "text/x-python",
   "name": "python",
   "nbconvert_exporter": "python",
   "pygments_lexer": "ipython3",
   "version": "3.11.4"
  }
 },
 "nbformat": 4,
 "nbformat_minor": 5
}
