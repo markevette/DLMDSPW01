{
 "cells": [
  {
   "cell_type": "markdown",
   "id": "e8e31d91",
   "metadata": {},
   "source": [
    "### Enter Code Here"
   ]
  },
  {
   "cell_type": "code",
   "execution_count": null,
   "id": "ab40015c",
   "metadata": {},
   "outputs": [],
   "source": []
  },
  {
   "cell_type": "code",
   "execution_count": null,
   "id": "b78229c2",
   "metadata": {},
   "outputs": [],
   "source": [
    "import pandas as one\n",
    "import numpy as two\n",
    "train=one.read_csv(\"train.csv\")\n",
    "test=one.read_csv(\"test.csv\")\n",
    "ideal=one.read_csv(\"ideal.csv\")\n",
    "train.head()\n",
    "test.head()\n",
    "ideal.head()\n",
    "train.shape, ideal.shape, test.shape\n",
    "    for j in range(1, len(train.columns)):\n",
    "        lse2=[]\n",
    "        for k in range(1, len(ideal.columns)):\n",
    "            msev=0\n",
    "            for i in range(len(train)):\n",
    "                a=train.iloc[i,j]\n",
    "                b=ideal.iloc[i,k]\n",
    "                msev=msev+((a-b)**2)\n",
    "            lse2.append(msev/len(train))\n",
    "            minmin=min(lse2)\n",
    "            index=lse2.index(minmin)\n",
    "            l.append(index+1)\n",
    "            lse2.append(minmin)"
   ]
  }
 ],
 "metadata": {
  "kernelspec": {
   "display_name": "Python 3 (ipykernel)",
   "language": "python",
   "name": "python3"
  },
  "language_info": {
   "codemirror_mode": {
    "name": "ipython",
    "version": 3
   },
   "file_extension": ".py",
   "mimetype": "text/x-python",
   "name": "python",
   "nbconvert_exporter": "python",
   "pygments_lexer": "ipython3",
   "version": "3.11.4"
  }
 },
 "nbformat": 4,
 "nbformat_minor": 5
}
